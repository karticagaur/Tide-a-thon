{
 "cells": [
  {
   "cell_type": "code",
   "execution_count": 45,
   "id": "d5ba0295",
   "metadata": {},
   "outputs": [],
   "source": [
    "import pandas as pd"
   ]
  },
  {
   "cell_type": "code",
   "execution_count": 46,
   "id": "44b56fc1",
   "metadata": {},
   "outputs": [],
   "source": [
    "housing = pd.read_csv(\"data2.csv\") # retriving the data"
   ]
  },
  {
   "cell_type": "code",
   "execution_count": 47,
   "id": "b5a2a91e",
   "metadata": {},
   "outputs": [],
   "source": [
    "housing.head() "
   ]
  },
  {
   "cell_type": "code",
   "execution_count": 4,
   "id": "88faffe7",
   "metadata": {},
   "outputs": [],
   "source": [
    "# housing.columns"
   ]
  },
  {
   "cell_type": "code",
   "execution_count": 5,
   "id": "9f5c25fa",
   "metadata": {},
   "outputs": [],
   "source": [
    "housing.describe() # displaying the attributes like count, minnimum , maximum, etc."
   ]
  },
  {
   "cell_type": "code",
   "execution_count": 6,
   "id": "75907757",
   "metadata": {},
   "outputs": [],
   "source": [
    "housing.info() # to make sure that we have all the data and none of it is missing"
   ]
  },
  {
   "cell_type": "code",
   "execution_count": 7,
   "id": "cbfc794a",
   "metadata": {},
   "outputs": [],
   "source": [
    "housing['LSTAT'].value_counts() # counting different attribute values"
   ]
  },
  {
   "cell_type": "code",
   "execution_count": 8,
   "id": "bd4830de",
   "metadata": {},
   "outputs": [],
   "source": [
    "%matplotlib inline \n",
    "# to plot grahy in this notebook itself"
   ]
  },
  {
   "cell_type": "code",
   "execution_count": 9,
   "id": "bc9c2932",
   "metadata": {},
   "outputs": [],
   "source": [
    "import matplotlib.pyplot as ply\n",
    "housing.hist(bins=50, figsize=(20,15), color='green')"
   ]
  },
  {
   "cell_type": "code",
   "execution_count": 10,
   "id": "ec7cc6af",
   "metadata": {},
   "outputs": [],
   "source": [
    "# spliting\n",
    "# import numpy as np\n",
    "# np.random.seed(42)\n",
    "# def split_train_test(data, test_ratio):\n",
    "#     shuffle = np.random.permutation(len(data))\n",
    "#     print(shuffle)\n",
    "#     test_set_size = int(len(data) * test_ratio)\n",
    "#     test_indices = shuffle[:test_set_size]\n",
    "#     train_indices = shuffle[test_set_size:]\n",
    "#     return data.iloc[train_indices], data.iloc[test_indices]"
   ]
  },
  {
   "cell_type": "code",
   "execution_count": 11,
   "id": "250ac50d",
   "metadata": {},
   "outputs": [],
   "source": [
    "# train_set, test_set = split_train_test(housing, 0.2)"
   ]
  },
  {
   "cell_type": "code",
   "execution_count": 12,
   "id": "2e062931",
   "metadata": {},
   "outputs": [],
   "source": [
    "# print(f\"Rows in train set : {len(train_set)}\")\n",
    "# print(f\"Rows in test set : {len(test_set)}\")"
   ]
  },
  {
   "cell_type": "code",
   "execution_count": 13,
   "id": "925a2fa6",
   "metadata": {},
   "outputs": [],
   "source": [
    "# Spliting the data into training and testing sets\n",
    "\n",
    "from sklearn.model_selection import train_test_split\n",
    "train_set, test_set = train_test_split(housing, test_size=0.2, train_size=0.8, random_state=42)\n",
    "print(f\"Rows in train set : {len(train_set)}\")\n",
    "print(f\"Rows in test set : {len(test_set)}\")"
   ]
  },
  {
   "cell_type": "code",
   "execution_count": 14,
   "id": "23510de6",
   "metadata": {},
   "outputs": [],
   "source": [
    "# Spliting a particular attribute into training and testing sets  \n",
    "\n",
    "from sklearn.model_selection import StratifiedShuffleSplit\n",
    "split = StratifiedShuffleSplit(n_splits=1, test_size=0.2, random_state=42)\n",
    "for train_index, test_index in split.split(housing, housing['CHAS']):\n",
    "    strat_train_set = housing.loc[train_index]\n",
    "    strat_test_set = housing.loc[test_index]"
   ]
  },
  {
   "cell_type": "code",
   "execution_count": 15,
   "id": "35612cee",
   "metadata": {},
   "outputs": [],
   "source": [
    "strat_train_set['CHAS'].value_counts()"
   ]
  },
  {
   "cell_type": "code",
   "execution_count": 16,
   "id": "8d01544d",
   "metadata": {},
   "outputs": [],
   "source": [
    "strat_test_set['CHAS'].value_counts()"
   ]
  },
  {
   "cell_type": "code",
   "execution_count": 17,
   "id": "bd26d185",
   "metadata": {},
   "outputs": [],
   "source": [
    "housing = strat_train_set.copy()"
   ]
  },
  {
   "cell_type": "code",
   "execution_count": 18,
   "id": "13223fd5",
   "metadata": {},
   "outputs": [],
   "source": [
    "# Ploting graphs to find the relationship between the attributes\n",
    "\n",
    "from pandas.plotting import scatter_matrix\n",
    "attributes = [\"MEDV\", \"ZN\", \"RM\", \"LSTAT\"]\n",
    "scatter_matrix(housing[attributes], figsize=(12,8), alpha=0.8)"
   ]
  },
  {
   "cell_type": "code",
   "execution_count": 19,
   "id": "522156dc",
   "metadata": {},
   "outputs": [],
   "source": [
    "housing.plot(kind=\"scatter\", x=\"RM\", y=\"MEDV\")"
   ]
  },
  {
   "cell_type": "code",
   "execution_count": 20,
   "id": "8360c879",
   "metadata": {},
   "outputs": [],
   "source": [
    "# Adding new attribute (TAXRM)\n",
    "\n",
    "housing['TAXRM'] = housing['TAX']/housing['RM']"
   ]
  },
  {
   "cell_type": "code",
   "execution_count": 21,
   "id": "f0799a23",
   "metadata": {},
   "outputs": [],
   "source": [
    "housing['TAXRM'].info()"
   ]
  },
  {
   "cell_type": "code",
   "execution_count": 22,
   "id": "17bff48a",
   "metadata": {},
   "outputs": [],
   "source": [
    "housing.head()"
   ]
  },
  {
   "cell_type": "code",
   "execution_count": 23,
   "id": "465521ad",
   "metadata": {},
   "outputs": [],
   "source": [
    "housing.describe()"
   ]
  },
  {
   "cell_type": "code",
   "execution_count": 24,
   "id": "e0454868",
   "metadata": {},
   "outputs": [],
   "source": [
    "corr_matrix = housing.corr() # finding the correlation between different attributes"
   ]
  },
  {
   "cell_type": "code",
   "execution_count": 25,
   "id": "707fde4c",
   "metadata": {},
   "outputs": [],
   "source": [
    "corr_matrix"
   ]
  },
  {
   "cell_type": "code",
   "execution_count": 26,
   "id": "9b8276b1",
   "metadata": {},
   "outputs": [],
   "source": [
    "corr_matrix['MEDV'].sort_values(ascending=False) # finding the correlation with respect to MEDV"
   ]
  },
  {
   "cell_type": "code",
   "execution_count": 27,
   "id": "e8677df8",
   "metadata": {},
   "outputs": [],
   "source": [
    "housing.plot(kind=\"scatter\", x=\"TAXRM\", y=\"MEDV\", alpha=0.8) "
   ]
  },
  {
   "cell_type": "code",
   "execution_count": 28,
   "id": "9b9896d7",
   "metadata": {},
   "outputs": [],
   "source": [
    "housing = strat_train_set.drop(\"MEDV\", axis=1)"
   ]
  },
  {
   "cell_type": "code",
   "execution_count": 29,
   "id": "063e3ba9",
   "metadata": {},
   "outputs": [],
   "source": [
    "housing_lables = strat_train_set[\"MEDV\"].copy()"
   ]
  },
  {
   "cell_type": "code",
   "execution_count": 30,
   "id": "d6ad13f8",
   "metadata": {},
   "outputs": [],
   "source": [
    "housing"
   ]
  },
  {
   "cell_type": "code",
   "execution_count": 31,
   "id": "3a40a1db",
   "metadata": {},
   "outputs": [],
   "source": [
    "# dropping a column in the data\n",
    "# 1. dropping the missing data \n",
    "\n",
    "a = housing.dropna(subset=[\"RM\"]) \n",
    "a.shape\n",
    "# a.describe()"
   ]
  },
  {
   "cell_type": "code",
   "execution_count": 32,
   "id": "f7b379a5",
   "metadata": {},
   "outputs": [],
   "source": [
    "# 2. dropping the entire column \n",
    "\n",
    "housing.drop(\"RM\", axis=1).shape"
   ]
  },
  {
   "cell_type": "code",
   "execution_count": 33,
   "id": "852205a1",
   "metadata": {},
   "outputs": [],
   "source": [
    "# 3. filling the missing data points with some value (i.e., 0 or median or mean) \n",
    "\n",
    "median = housing[\"RM\"].median() \n",
    "housing[\"RM\"].fillna(median) "
   ]
  },
  {
   "cell_type": "code",
   "execution_count": 34,
   "id": "804a962b",
   "metadata": {},
   "outputs": [],
   "source": [
    "housing.shape"
   ]
  },
  {
   "cell_type": "code",
   "execution_count": 35,
   "id": "46528e99",
   "metadata": {},
   "outputs": [],
   "source": [
    "# before we start filling missing attributes\n",
    "\n",
    "housing.describe() "
   ]
  },
  {
   "cell_type": "code",
   "execution_count": 36,
   "id": "3b5e25fe",
   "metadata": {},
   "outputs": [],
   "source": [
    "# filling the missing values with median\n",
    "\n",
    "from sklearn.impute import SimpleImputer\n",
    "imputer = SimpleImputer(strategy=\"median\")\n",
    "imputer.fit(housing)"
   ]
  },
  {
   "cell_type": "code",
   "execution_count": 37,
   "id": "33831df2",
   "metadata": {},
   "outputs": [],
   "source": [
    "imputer.statistics_.shape"
   ]
  },
  {
   "cell_type": "code",
   "execution_count": 38,
   "id": "774606cf",
   "metadata": {},
   "outputs": [],
   "source": [
    "X = imputer.transform(housing)"
   ]
  },
  {
   "cell_type": "code",
   "execution_count": 39,
   "id": "7c79e63e",
   "metadata": {},
   "outputs": [],
   "source": [
    "housing_tr = pd.DataFrame(X, columns=housing.columns)"
   ]
  },
  {
   "cell_type": "code",
   "execution_count": 40,
   "id": "6795b8e3",
   "metadata": {},
   "outputs": [],
   "source": [
    "housing_tr.describe()"
   ]
  },
  {
   "cell_type": "code",
   "execution_count": 41,
   "id": "e7bd9e5d",
   "metadata": {},
   "outputs": [],
   "source": [
    "# Creating a pipeline\n",
    "\n",
    "from sklearn.pipeline import Pipeline\n",
    "from sklearn.preprocessing import StandardScaler\n",
    "my_pipeline = Pipeline([\n",
    "    ('imputer', SimpleImputer(strategy=\"median\")),\n",
    "    (\"std_scaler\", StandardScaler()),\n",
    "])"
   ]
  },
  {
   "cell_type": "code",
   "execution_count": 42,
   "id": "cf1f4170",
   "metadata": {},
   "outputs": [],
   "source": [
    "housing_num_tr = my_pipeline.fit_transform(housing)"
   ]
  },
  {
   "cell_type": "code",
   "execution_count": 43,
   "id": "581becd7",
   "metadata": {},
   "outputs": [],
   "source": [
    "housing_num_tr.shape"
   ]
  },
  {
   "cell_type": "code",
   "execution_count": 44,
   "id": "55b8bf9d",
   "metadata": {},
   "outputs": [],
   "source": [
    "# Trying different models :\n",
    "# 1. Linear Regression\n",
    "# 2. Decision Tree Regression\n",
    "# 3. Random Forest Regression\n",
    "\n",
    "from sklearn.linear_model import LinearRegression\n",
    "from sklearn.tree import DecisionTreeRegressor\n",
    "from sklearn.ensemble import RandomForestRegressor\n",
    "# model = LinearRegression()\n",
    "# model = DecisionTreeRegressor()\n",
    "model = RandomForestRegressor()\n",
    "model.fit(housing_num_tr, housing_labels)"
   ]
  },
  {
   "cell_type": "code",
   "execution_count": null,
   "id": "75bcabe1",
   "metadata": {},
   "outputs": [],
   "source": [
    "some_data = housing.iloc[:5]"
   ]
  },
  {
   "cell_type": "code",
   "execution_count": null,
   "id": "4fd1e800",
   "metadata": {},
   "outputs": [],
   "source": [
    "some_labels = housing_labels.iloc[:5]"
   ]
  },
  {
   "cell_type": "code",
   "execution_count": null,
   "id": "96bce511",
   "metadata": {},
   "outputs": [],
   "source": [
    "prepared_data = my_pipeline.transform(some_data)"
   ]
  },
  {
   "cell_type": "code",
   "execution_count": null,
   "id": "46001e89",
   "metadata": {},
   "outputs": [],
   "source": [
    "model.predict(prepared_data)"
   ]
  },
  {
   "cell_type": "code",
   "execution_count": null,
   "id": "b169988e",
   "metadata": {},
   "outputs": [],
   "source": [
    "list(some_labels)"
   ]
  },
  {
   "cell_type": "code",
   "execution_count": null,
   "id": "d0bb4b6a",
   "metadata": {},
   "outputs": [],
   "source": [
    "# Evaluating the model\n",
    "\n",
    "from sklearn.metrics import mean_squared_error\n",
    "housing_predictions = model.predict(housing_num_tr)\n",
    "mse = mean_squared_error(housing_labels, housing_predictions)\n",
    "rmse = np.sqrt(mse)"
   ]
  },
  {
   "cell_type": "code",
   "execution_count": null,
   "id": "d896e48f",
   "metadata": {},
   "outputs": [],
   "source": [
    "rmse"
   ]
  },
  {
   "cell_type": "code",
   "execution_count": null,
   "id": "0a569922",
   "metadata": {},
   "outputs": [],
   "source": [
    "# Cross Validation\n",
    "\n",
    "from sklearn.model_selection import cross_val_score\n",
    "scores = cross_val_score(model, housing_num_tr, housing_labels, scoring=\"neg_mean_squared_error\", cv=10)\n",
    "rmse_scores = np.sqrt(-scores)"
   ]
  },
  {
   "cell_type": "code",
   "execution_count": null,
   "id": "f25f7354",
   "metadata": {},
   "outputs": [],
   "source": [
    "rmse_scores"
   ]
  },
  {
   "cell_type": "code",
   "execution_count": null,
   "id": "5245447c",
   "metadata": {},
   "outputs": [],
   "source": [
    "def print_scores(scores):\n",
    "    print(\"Scores : \", scores)\n",
    "    print(\"Mean : \", scores.mean())\n",
    "    print(\"Standard Deviation : \", scores.std())"
   ]
  },
  {
   "cell_type": "code",
   "execution_count": null,
   "id": "14a64707",
   "metadata": {},
   "outputs": [],
   "source": [
    "print_scores(rmse_scores)"
   ]
  },
  {
   "cell_type": "code",
   "execution_count": null,
   "id": "aeac08ea",
   "metadata": {},
   "outputs": [],
   "source": [
    "# saving the model\n",
    "\n",
    "from joblib import dump,load\n",
    "dump(model, 'Housing.joblib')"
   ]
  },
  {
   "cell_type": "code",
   "execution_count": null,
   "id": "3b52085d",
   "metadata": {},
   "outputs": [],
   "source": [
    "# Testing \n",
    "\n",
    "X_test = strat_test_set.drop(\"MEDV\", axis=1)\n",
    "Y_test = strat_test_set[\"MEDV\"].copy()\n",
    "X_test_prepared = my_pipeline.transform(X_test)\n",
    "final_predictions = model.predict(X_test_prepared)\n",
    "final_mse = mean_squared_error(Y_test, final_predictions)\n",
    "final_rmse = np.sqrt(final_mse)\n",
    "# print(final_predictions,list(Y_test))"
   ]
  },
  {
   "cell_type": "code",
   "execution_count": null,
   "id": "c13a3c88",
   "metadata": {},
   "outputs": [],
   "source": [
    "final_rmse"
   ]
  },
  {
   "cell_type": "code",
   "execution_count": null,
   "id": "5deab294",
   "metadata": {},
   "outputs": [],
   "source": [
    "prepared_data[0]"
   ]
  },
  {
   "cell_type": "code",
   "execution_count": null,
   "id": "0fb33856",
   "metadata": {},
   "outputs": [],
   "source": [
    "# Using the model\n",
    "\n",
    "from joblib import dump, load\n",
    "import numpy as np\n",
    "model = load('Dragon.joblib')\n",
    "features = np.array([-0.43942006,  3.12628155, -1.12165014, -0.27288841, -1.42262747,\n",
    "       -0.24322309, -1.31238772,  2.61111401, -1.0016859 , -0.5778192 ,\n",
    "       -0.97491834,  0.41164221, -0.86091034])\n",
    "model.predict([features])"
   ]
  },
  {
   "cell_type": "code",
   "execution_count": null,
   "id": "b0461152",
   "metadata": {},
   "outputs": [],
   "source": []
  }
 ],
 "metadata": {
  "kernelspec": {
   "display_name": "Python 3 (ipykernel)",
   "language": "python",
   "name": "python3"
  },
  "language_info": {
   "codemirror_mode": {
    "name": "ipython",
    "version": 3
   },
   "file_extension": ".py",
   "mimetype": "text/x-python",
   "name": "python",
   "nbconvert_exporter": "python",
   "pygments_lexer": "ipython3",
   "version": "3.10.9"
  }
 },
 "nbformat": 4,
 "nbformat_minor": 5
}
